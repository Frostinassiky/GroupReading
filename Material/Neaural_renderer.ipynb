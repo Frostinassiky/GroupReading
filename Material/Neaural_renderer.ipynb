{
 "cells": [
  {
   "cell_type": "markdown",
   "metadata": {},
   "source": [
    "# $\\color{green}{\\text{Neural Mesh Renderer in pytorch}}$\n",
    "## [Kato etal (CVPR18')](http://openaccess.thecvf.com/content_cvpr_2018/papers/Kato_Neural_3D_Mesh_CVPR_2018_paper.pdf)\n",
    "### implements four examples to use Neaural Renderer with pytorch\n",
    "-------------------------------------\n",
    "--------------------------\n",
    "go to the repo [here](https://github.com/hiroharu-kato/neural_renderer) and hit \n",
    "```bash\n",
    "sudo python setup.py install\n",
    "```"
   ]
  },
  {
   "cell_type": "markdown",
   "metadata": {},
   "source": [
    "#### importing relevent modules "
   ]
  },
  {
   "cell_type": "code",
   "execution_count": 1,
   "metadata": {},
   "outputs": [],
   "source": [
    "from __future__ import division\n",
    "import os\n",
    "import argparse\n",
    "import glob\n",
    "\n",
    "import torch\n",
    "import torch.nn as nn\n",
    "import numpy as np\n",
    "from skimage.io import imread, imsave\n",
    "from tqdm import tqdm_notebook as tqdm\n",
    "\n",
    "import imageio\n",
    "from IPython.display import display, HTML\n",
    "\n",
    "import neural_renderer as nr\n",
    "\n",
    "current_dir = os.getcwd()\n",
    "data_dir = os.path.join(current_dir, 'data/3d_renderer')\n"
   ]
  },
  {
   "cell_type": "markdown",
   "metadata": {},
   "source": [
    "#### supporting functions"
   ]
  },
  {
   "cell_type": "code",
   "execution_count": 2,
   "metadata": {},
   "outputs": [],
   "source": [
    "def make_gif(filename):\n",
    "    with imageio.get_writer(filename, mode='I') as writer:\n",
    "        for filename in sorted(glob.glob('/tmp/_tmp_*.png')):\n",
    "            writer.append_data(imread(filename))\n",
    "            os.remove(filename)\n",
    "    writer.close()"
   ]
  },
  {
   "cell_type": "markdown",
   "metadata": {},
   "source": [
    "#### constants file names "
   ]
  },
  {
   "cell_type": "code",
   "execution_count": 9,
   "metadata": {},
   "outputs": [],
   "source": [
    "filename_obj =  os.path.join(data_dir,'motor.obj')\n",
    "camera_distance = 2.732"
   ]
  },
  {
   "cell_type": "markdown",
   "metadata": {},
   "source": [
    "## example1 : rendering obj file from different angles"
   ]
  },
  {
   "cell_type": "code",
   "execution_count": 10,
   "metadata": {},
   "outputs": [],
   "source": [
    "filename_ref = os.path.join(data_dir,'example1_ref.png')\n",
    "file_out = os.path.join(data_dir,'example1_out.gif')\n",
    "file_opt = os.path.join(data_dir,'example1_opt.gif')\n",
    "\n",
    "# other settings\n",
    "\n",
    "elevation = 35\n",
    "texture_size = 2\n",
    "\n",
    "# load .obj\n",
    "vertices, faces = nr.load_obj(filename_obj)\n",
    "vertices = vertices[None, :, :]  # [num_vertices, XYZ] -> [batch_size=1, num_vertices, XYZ]\n",
    "faces = faces[None, :, :]  # [num_faces, 3] -> [batch_size=1, num_faces, 3]\n",
    "\n",
    "# create texture [batch_size=1, num_faces, texture_size, texture_size, texture_size, RGB]\n",
    "textures = torch.ones(1, faces.shape[1], texture_size, texture_size, texture_size, 3, dtype=torch.float32).cuda()"
   ]
  },
  {
   "cell_type": "code",
   "execution_count": 11,
   "metadata": {},
   "outputs": [
    {
     "data": {
      "application/vnd.jupyter.widget-view+json": {
       "model_id": "7077102ef07b47feab780cb82a5e9d37",
       "version_major": 2,
       "version_minor": 0
      },
      "text/plain": [
       "HBox(children=(IntProgress(value=0, max=90), HTML(value='')))"
      ]
     },
     "metadata": {},
     "output_type": "display_data"
    },
    {
     "name": "stdout",
     "output_type": "stream",
     "text": [
      "\n"
     ]
    },
    {
     "data": {
      "text/html": [
       "<img src='data/3d_renderer/example1_out.gif'></img>"
      ],
      "text/plain": [
       "<IPython.core.display.HTML object>"
      ]
     },
     "metadata": {},
     "output_type": "display_data"
    }
   ],
   "source": [
    "# to gpu\n",
    "\n",
    "# create renderer\n",
    "renderer = nr.Renderer(camera_mode='look_at')\n",
    "image_collection = []\n",
    "# draw object\n",
    "loop = tqdm(range(0, 360, 4))\n",
    "writer = imageio.get_writer(file_out, mode='I')\n",
    "for num, azimuth in enumerate(loop):\n",
    "    loop.set_description('Drawing')\n",
    "    renderer.eye = nr.get_points_from_angles(camera_distance, elevation, azimuth)\n",
    "    images = renderer(vertices, faces, textures,)  # [batch_size, RGB, image_size, image_size]\n",
    "    image = images.detach().cpu().numpy()[0].transpose((1, 2, 0))  # [image_size, image_size, RGB]\n",
    "    writer.append_data((255*image).astype(np.uint8))\n",
    "    image_collection.append((255*image).astype(np.uint8))\n",
    "writer.close()\n",
    "display(HTML(\"<img src='data/3d_renderer/example1_out.gif'></img>\"))"
   ]
  },
  {
   "cell_type": "code",
   "execution_count": 12,
   "metadata": {},
   "outputs": [
    {
     "data": {
      "text/plain": [
       "\u001b[0;31mSignature:\u001b[0m \u001b[0mnr\u001b[0m\u001b[0;34m.\u001b[0m\u001b[0mlighting\u001b[0m\u001b[0;34m(\u001b[0m\u001b[0mfaces\u001b[0m\u001b[0;34m,\u001b[0m \u001b[0mtextures\u001b[0m\u001b[0;34m,\u001b[0m \u001b[0mintensity_ambient\u001b[0m\u001b[0;34m=\u001b[0m\u001b[0;36m0.5\u001b[0m\u001b[0;34m,\u001b[0m \u001b[0mintensity_directional\u001b[0m\u001b[0;34m=\u001b[0m\u001b[0;36m0.5\u001b[0m\u001b[0;34m,\u001b[0m \u001b[0mcolor_ambient\u001b[0m\u001b[0;34m=\u001b[0m\u001b[0;34m(\u001b[0m\u001b[0;36m1\u001b[0m\u001b[0;34m,\u001b[0m \u001b[0;36m1\u001b[0m\u001b[0;34m,\u001b[0m \u001b[0;36m1\u001b[0m\u001b[0;34m)\u001b[0m\u001b[0;34m,\u001b[0m \u001b[0mcolor_directional\u001b[0m\u001b[0;34m=\u001b[0m\u001b[0;34m(\u001b[0m\u001b[0;36m1\u001b[0m\u001b[0;34m,\u001b[0m \u001b[0;36m1\u001b[0m\u001b[0;34m,\u001b[0m \u001b[0;36m1\u001b[0m\u001b[0;34m)\u001b[0m\u001b[0;34m,\u001b[0m \u001b[0mdirection\u001b[0m\u001b[0;34m=\u001b[0m\u001b[0;34m(\u001b[0m\u001b[0;36m0\u001b[0m\u001b[0;34m,\u001b[0m \u001b[0;36m1\u001b[0m\u001b[0;34m,\u001b[0m \u001b[0;36m0\u001b[0m\u001b[0;34m)\u001b[0m\u001b[0;34m)\u001b[0m\u001b[0;34m\u001b[0m\u001b[0;34m\u001b[0m\u001b[0m\n",
       "\u001b[0;31mDocstring:\u001b[0m <no docstring>\n",
       "\u001b[0;31mFile:\u001b[0m      ~/anaconda3/envs/mytorch/lib/python3.7/site-packages/neural_renderer-1.1.3-py3.7-linux-x86_64.egg/neural_renderer/lighting.py\n",
       "\u001b[0;31mType:\u001b[0m      function\n"
      ]
     },
     "metadata": {},
     "output_type": "display_data"
    }
   ],
   "source": [
    "?nr.lighting"
   ]
  },
  {
   "cell_type": "markdown",
   "metadata": {},
   "source": [
    "## example2 : optimizaing the mesh vertices"
   ]
  },
  {
   "cell_type": "code",
   "execution_count": 28,
   "metadata": {},
   "outputs": [],
   "source": [
    "filename_ref = os.path.join(data_dir,'example2_ref.png')\n",
    "file_out = os.path.join(data_dir,'example2_out.gif')\n",
    "file_opt = os.path.join(data_dir,'example2_opt.gif')\n",
    "\n",
    "class Model(nn.Module):\n",
    "    def __init__(self, filename_obj, filename_ref):\n",
    "        super(Model, self).__init__()\n",
    "\n",
    "        # load .obj\n",
    "        vertices, faces = nr.load_obj(filename_obj)\n",
    "        self.vertices = nn.Parameter(vertices[None, :, :])\n",
    "        self.register_buffer('faces', faces[None, :, :])\n",
    "\n",
    "        # create textures\n",
    "        texture_size = 2\n",
    "        textures = torch.ones(1, self.faces.shape[1], texture_size, texture_size, texture_size, 3, dtype=torch.float32)\n",
    "        self.register_buffer('textures', textures)\n",
    "\n",
    "        # load reference image\n",
    "        image_ref = torch.from_numpy(imread(filename_ref).astype(np.float32).mean(-1) / 255.)[None, ::]\n",
    "        self.register_buffer('image_ref', image_ref)\n",
    "\n",
    "        # setup renderer\n",
    "        renderer = nr.Renderer(camera_mode='look_at')\n",
    "        self.renderer = renderer\n",
    "\n",
    "    def forward(self):\n",
    "        self.renderer.eye = nr.get_points_from_angles(2.732, 0, 90)\n",
    "        image = self.renderer(self.vertices, self.faces, mode='silhouettes')\n",
    "        loss = torch.sum((image - self.image_ref[None, :, :])**2)\n",
    "        return loss"
   ]
  },
  {
   "cell_type": "code",
   "execution_count": 29,
   "metadata": {},
   "outputs": [
    {
     "data": {
      "application/vnd.jupyter.widget-view+json": {
       "model_id": "eb9f600fbaee48d695bdf0862f19a6dd",
       "version_major": 2,
       "version_minor": 0
      },
      "text/plain": [
       "HBox(children=(IntProgress(value=0, max=300), HTML(value='')))"
      ]
     },
     "metadata": {},
     "output_type": "display_data"
    },
    {
     "name": "stderr",
     "output_type": "stream",
     "text": [
      "/home/hamdiaj/anaconda3/envs/mytorch/lib/python3.7/site-packages/skimage/util/dtype.py:130: UserWarning: Possible precision loss when converting from float32 to uint16\n",
      "  .format(dtypeobj_in, dtypeobj_out))\n",
      "WARNING:root:Lossy conversion from uint16 to uint8. Losing 8 bits of resolution. Convert image to uint8 prior to saving to suppress this warning.\n",
      "WARNING:root:Lossy conversion from uint16 to uint8. Losing 8 bits of resolution. Convert image to uint8 prior to saving to suppress this warning.\n",
      "WARNING:root:Lossy conversion from uint16 to uint8. Losing 8 bits of resolution. Convert image to uint8 prior to saving to suppress this warning.\n",
      "WARNING:root:Lossy conversion from uint16 to uint8. Losing 8 bits of resolution. Convert image to uint8 prior to saving to suppress this warning.\n",
      "WARNING:root:Lossy conversion from uint16 to uint8. Losing 8 bits of resolution. Convert image to uint8 prior to saving to suppress this warning.\n",
      "WARNING:root:Lossy conversion from uint16 to uint8. Losing 8 bits of resolution. Convert image to uint8 prior to saving to suppress this warning.\n",
      "WARNING:root:Lossy conversion from uint16 to uint8. Losing 8 bits of resolution. Convert image to uint8 prior to saving to suppress this warning.\n",
      "WARNING:root:Lossy conversion from uint16 to uint8. Losing 8 bits of resolution. Convert image to uint8 prior to saving to suppress this warning.\n",
      "WARNING:root:Lossy conversion from uint16 to uint8. Losing 8 bits of resolution. Convert image to uint8 prior to saving to suppress this warning.\n",
      "WARNING:root:Lossy conversion from uint16 to uint8. Losing 8 bits of resolution. Convert image to uint8 prior to saving to suppress this warning.\n",
      "WARNING:root:Lossy conversion from uint16 to uint8. Losing 8 bits of resolution. Convert image to uint8 prior to saving to suppress this warning.\n",
      "WARNING:root:Lossy conversion from uint16 to uint8. Losing 8 bits of resolution. Convert image to uint8 prior to saving to suppress this warning.\n",
      "WARNING:root:Lossy conversion from uint16 to uint8. Losing 8 bits of resolution. Convert image to uint8 prior to saving to suppress this warning.\n",
      "WARNING:root:Lossy conversion from uint16 to uint8. Losing 8 bits of resolution. Convert image to uint8 prior to saving to suppress this warning.\n",
      "WARNING:root:Lossy conversion from uint16 to uint8. Losing 8 bits of resolution. Convert image to uint8 prior to saving to suppress this warning.\n",
      "WARNING:root:Lossy conversion from uint16 to uint8. Losing 8 bits of resolution. Convert image to uint8 prior to saving to suppress this warning.\n",
      "WARNING:root:Lossy conversion from uint16 to uint8. Losing 8 bits of resolution. Convert image to uint8 prior to saving to suppress this warning.\n",
      "WARNING:root:Lossy conversion from uint16 to uint8. Losing 8 bits of resolution. Convert image to uint8 prior to saving to suppress this warning.\n",
      "WARNING:root:Lossy conversion from uint16 to uint8. Losing 8 bits of resolution. Convert image to uint8 prior to saving to suppress this warning.\n",
      "WARNING:root:Lossy conversion from uint16 to uint8. Losing 8 bits of resolution. Convert image to uint8 prior to saving to suppress this warning.\n",
      "WARNING:root:Lossy conversion from uint16 to uint8. Losing 8 bits of resolution. Convert image to uint8 prior to saving to suppress this warning.\n",
      "WARNING:root:Lossy conversion from uint16 to uint8. Losing 8 bits of resolution. Convert image to uint8 prior to saving to suppress this warning.\n",
      "WARNING:root:Lossy conversion from uint16 to uint8. Losing 8 bits of resolution. Convert image to uint8 prior to saving to suppress this warning.\n",
      "WARNING:root:Lossy conversion from uint16 to uint8. Losing 8 bits of resolution. Convert image to uint8 prior to saving to suppress this warning.\n",
      "WARNING:root:Lossy conversion from uint16 to uint8. Losing 8 bits of resolution. Convert image to uint8 prior to saving to suppress this warning.\n",
      "WARNING:root:Lossy conversion from uint16 to uint8. Losing 8 bits of resolution. Convert image to uint8 prior to saving to suppress this warning.\n",
      "WARNING:root:Lossy conversion from uint16 to uint8. Losing 8 bits of resolution. Convert image to uint8 prior to saving to suppress this warning.\n",
      "WARNING:root:Lossy conversion from uint16 to uint8. Losing 8 bits of resolution. Convert image to uint8 prior to saving to suppress this warning.\n",
      "WARNING:root:Lossy conversion from uint16 to uint8. Losing 8 bits of resolution. Convert image to uint8 prior to saving to suppress this warning.\n",
      "WARNING:root:Lossy conversion from uint16 to uint8. Losing 8 bits of resolution. Convert image to uint8 prior to saving to suppress this warning.\n",
      "WARNING:root:Lossy conversion from uint16 to uint8. Losing 8 bits of resolution. Convert image to uint8 prior to saving to suppress this warning.\n",
      "WARNING:root:Lossy conversion from uint16 to uint8. Losing 8 bits of resolution. Convert image to uint8 prior to saving to suppress this warning.\n",
      "WARNING:root:Lossy conversion from uint16 to uint8. Losing 8 bits of resolution. Convert image to uint8 prior to saving to suppress this warning.\n",
      "WARNING:root:Lossy conversion from uint16 to uint8. Losing 8 bits of resolution. Convert image to uint8 prior to saving to suppress this warning.\n",
      "WARNING:root:Lossy conversion from uint16 to uint8. Losing 8 bits of resolution. Convert image to uint8 prior to saving to suppress this warning.\n",
      "WARNING:root:Lossy conversion from uint16 to uint8. Losing 8 bits of resolution. Convert image to uint8 prior to saving to suppress this warning.\n",
      "WARNING:root:Lossy conversion from uint16 to uint8. Losing 8 bits of resolution. Convert image to uint8 prior to saving to suppress this warning.\n",
      "WARNING:root:Lossy conversion from uint16 to uint8. Losing 8 bits of resolution. Convert image to uint8 prior to saving to suppress this warning.\n",
      "WARNING:root:Lossy conversion from uint16 to uint8. Losing 8 bits of resolution. Convert image to uint8 prior to saving to suppress this warning.\n",
      "WARNING:root:Lossy conversion from uint16 to uint8. Losing 8 bits of resolution. Convert image to uint8 prior to saving to suppress this warning.\n",
      "WARNING:root:Lossy conversion from uint16 to uint8. Losing 8 bits of resolution. Convert image to uint8 prior to saving to suppress this warning.\n",
      "WARNING:root:Lossy conversion from uint16 to uint8. Losing 8 bits of resolution. Convert image to uint8 prior to saving to suppress this warning.\n",
      "WARNING:root:Lossy conversion from uint16 to uint8. Losing 8 bits of resolution. Convert image to uint8 prior to saving to suppress this warning.\n",
      "WARNING:root:Lossy conversion from uint16 to uint8. Losing 8 bits of resolution. Convert image to uint8 prior to saving to suppress this warning.\n",
      "WARNING:root:Lossy conversion from uint16 to uint8. Losing 8 bits of resolution. Convert image to uint8 prior to saving to suppress this warning.\n",
      "WARNING:root:Lossy conversion from uint16 to uint8. Losing 8 bits of resolution. Convert image to uint8 prior to saving to suppress this warning.\n",
      "WARNING:root:Lossy conversion from uint16 to uint8. Losing 8 bits of resolution. Convert image to uint8 prior to saving to suppress this warning.\n",
      "WARNING:root:Lossy conversion from uint16 to uint8. Losing 8 bits of resolution. Convert image to uint8 prior to saving to suppress this warning.\n",
      "WARNING:root:Lossy conversion from uint16 to uint8. Losing 8 bits of resolution. Convert image to uint8 prior to saving to suppress this warning.\n",
      "WARNING:root:Lossy conversion from uint16 to uint8. Losing 8 bits of resolution. Convert image to uint8 prior to saving to suppress this warning.\n",
      "WARNING:root:Lossy conversion from uint16 to uint8. Losing 8 bits of resolution. Convert image to uint8 prior to saving to suppress this warning.\n",
      "WARNING:root:Lossy conversion from uint16 to uint8. Losing 8 bits of resolution. Convert image to uint8 prior to saving to suppress this warning.\n",
      "WARNING:root:Lossy conversion from uint16 to uint8. Losing 8 bits of resolution. Convert image to uint8 prior to saving to suppress this warning.\n",
      "WARNING:root:Lossy conversion from uint16 to uint8. Losing 8 bits of resolution. Convert image to uint8 prior to saving to suppress this warning.\n",
      "WARNING:root:Lossy conversion from uint16 to uint8. Losing 8 bits of resolution. Convert image to uint8 prior to saving to suppress this warning.\n",
      "WARNING:root:Lossy conversion from uint16 to uint8. Losing 8 bits of resolution. Convert image to uint8 prior to saving to suppress this warning.\n",
      "WARNING:root:Lossy conversion from uint16 to uint8. Losing 8 bits of resolution. Convert image to uint8 prior to saving to suppress this warning.\n",
      "WARNING:root:Lossy conversion from uint16 to uint8. Losing 8 bits of resolution. Convert image to uint8 prior to saving to suppress this warning.\n",
      "WARNING:root:Lossy conversion from uint16 to uint8. Losing 8 bits of resolution. Convert image to uint8 prior to saving to suppress this warning.\n",
      "WARNING:root:Lossy conversion from uint16 to uint8. Losing 8 bits of resolution. Convert image to uint8 prior to saving to suppress this warning.\n",
      "WARNING:root:Lossy conversion from uint16 to uint8. Losing 8 bits of resolution. Convert image to uint8 prior to saving to suppress this warning.\n",
      "WARNING:root:Lossy conversion from uint16 to uint8. Losing 8 bits of resolution. Convert image to uint8 prior to saving to suppress this warning.\n",
      "WARNING:root:Lossy conversion from uint16 to uint8. Losing 8 bits of resolution. Convert image to uint8 prior to saving to suppress this warning.\n",
      "WARNING:root:Lossy conversion from uint16 to uint8. Losing 8 bits of resolution. Convert image to uint8 prior to saving to suppress this warning.\n",
      "WARNING:root:Lossy conversion from uint16 to uint8. Losing 8 bits of resolution. Convert image to uint8 prior to saving to suppress this warning.\n",
      "WARNING:root:Lossy conversion from uint16 to uint8. Losing 8 bits of resolution. Convert image to uint8 prior to saving to suppress this warning.\n",
      "WARNING:root:Lossy conversion from uint16 to uint8. Losing 8 bits of resolution. Convert image to uint8 prior to saving to suppress this warning.\n",
      "WARNING:root:Lossy conversion from uint16 to uint8. Losing 8 bits of resolution. Convert image to uint8 prior to saving to suppress this warning.\n",
      "WARNING:root:Lossy conversion from uint16 to uint8. Losing 8 bits of resolution. Convert image to uint8 prior to saving to suppress this warning.\n",
      "WARNING:root:Lossy conversion from uint16 to uint8. Losing 8 bits of resolution. Convert image to uint8 prior to saving to suppress this warning.\n",
      "WARNING:root:Lossy conversion from uint16 to uint8. Losing 8 bits of resolution. Convert image to uint8 prior to saving to suppress this warning.\n",
      "WARNING:root:Lossy conversion from uint16 to uint8. Losing 8 bits of resolution. Convert image to uint8 prior to saving to suppress this warning.\n",
      "WARNING:root:Lossy conversion from uint16 to uint8. Losing 8 bits of resolution. Convert image to uint8 prior to saving to suppress this warning.\n",
      "WARNING:root:Lossy conversion from uint16 to uint8. Losing 8 bits of resolution. Convert image to uint8 prior to saving to suppress this warning.\n",
      "WARNING:root:Lossy conversion from uint16 to uint8. Losing 8 bits of resolution. Convert image to uint8 prior to saving to suppress this warning.\n",
      "WARNING:root:Lossy conversion from uint16 to uint8. Losing 8 bits of resolution. Convert image to uint8 prior to saving to suppress this warning.\n",
      "WARNING:root:Lossy conversion from uint16 to uint8. Losing 8 bits of resolution. Convert image to uint8 prior to saving to suppress this warning.\n",
      "WARNING:root:Lossy conversion from uint16 to uint8. Losing 8 bits of resolution. Convert image to uint8 prior to saving to suppress this warning.\n",
      "WARNING:root:Lossy conversion from uint16 to uint8. Losing 8 bits of resolution. Convert image to uint8 prior to saving to suppress this warning.\n",
      "WARNING:root:Lossy conversion from uint16 to uint8. Losing 8 bits of resolution. Convert image to uint8 prior to saving to suppress this warning.\n",
      "WARNING:root:Lossy conversion from uint16 to uint8. Losing 8 bits of resolution. Convert image to uint8 prior to saving to suppress this warning.\n",
      "WARNING:root:Lossy conversion from uint16 to uint8. Losing 8 bits of resolution. Convert image to uint8 prior to saving to suppress this warning.\n",
      "WARNING:root:Lossy conversion from uint16 to uint8. Losing 8 bits of resolution. Convert image to uint8 prior to saving to suppress this warning.\n",
      "WARNING:root:Lossy conversion from uint16 to uint8. Losing 8 bits of resolution. Convert image to uint8 prior to saving to suppress this warning.\n",
      "WARNING:root:Lossy conversion from uint16 to uint8. Losing 8 bits of resolution. Convert image to uint8 prior to saving to suppress this warning.\n",
      "WARNING:root:Lossy conversion from uint16 to uint8. Losing 8 bits of resolution. Convert image to uint8 prior to saving to suppress this warning.\n",
      "WARNING:root:Lossy conversion from uint16 to uint8. Losing 8 bits of resolution. Convert image to uint8 prior to saving to suppress this warning.\n",
      "WARNING:root:Lossy conversion from uint16 to uint8. Losing 8 bits of resolution. Convert image to uint8 prior to saving to suppress this warning.\n",
      "WARNING:root:Lossy conversion from uint16 to uint8. Losing 8 bits of resolution. Convert image to uint8 prior to saving to suppress this warning.\n",
      "WARNING:root:Lossy conversion from uint16 to uint8. Losing 8 bits of resolution. Convert image to uint8 prior to saving to suppress this warning.\n",
      "WARNING:root:Lossy conversion from uint16 to uint8. Losing 8 bits of resolution. Convert image to uint8 prior to saving to suppress this warning.\n",
      "WARNING:root:Lossy conversion from uint16 to uint8. Losing 8 bits of resolution. Convert image to uint8 prior to saving to suppress this warning.\n",
      "WARNING:root:Lossy conversion from uint16 to uint8. Losing 8 bits of resolution. Convert image to uint8 prior to saving to suppress this warning.\n",
      "WARNING:root:Lossy conversion from uint16 to uint8. Losing 8 bits of resolution. Convert image to uint8 prior to saving to suppress this warning.\n",
      "WARNING:root:Lossy conversion from uint16 to uint8. Losing 8 bits of resolution. Convert image to uint8 prior to saving to suppress this warning.\n",
      "WARNING:root:Lossy conversion from uint16 to uint8. Losing 8 bits of resolution. Convert image to uint8 prior to saving to suppress this warning.\n",
      "WARNING:root:Lossy conversion from uint16 to uint8. Losing 8 bits of resolution. Convert image to uint8 prior to saving to suppress this warning.\n",
      "WARNING:root:Lossy conversion from uint16 to uint8. Losing 8 bits of resolution. Convert image to uint8 prior to saving to suppress this warning.\n",
      "WARNING:root:Lossy conversion from uint16 to uint8. Losing 8 bits of resolution. Convert image to uint8 prior to saving to suppress this warning.\n",
      "WARNING:root:Lossy conversion from uint16 to uint8. Losing 8 bits of resolution. Convert image to uint8 prior to saving to suppress this warning.\n",
      "WARNING:root:Lossy conversion from uint16 to uint8. Losing 8 bits of resolution. Convert image to uint8 prior to saving to suppress this warning.\n",
      "WARNING:root:Lossy conversion from uint16 to uint8. Losing 8 bits of resolution. Convert image to uint8 prior to saving to suppress this warning.\n",
      "WARNING:root:Lossy conversion from uint16 to uint8. Losing 8 bits of resolution. Convert image to uint8 prior to saving to suppress this warning.\n",
      "WARNING:root:Lossy conversion from uint16 to uint8. Losing 8 bits of resolution. Convert image to uint8 prior to saving to suppress this warning.\n",
      "WARNING:root:Lossy conversion from uint16 to uint8. Losing 8 bits of resolution. Convert image to uint8 prior to saving to suppress this warning.\n",
      "WARNING:root:Lossy conversion from uint16 to uint8. Losing 8 bits of resolution. Convert image to uint8 prior to saving to suppress this warning.\n",
      "WARNING:root:Lossy conversion from uint16 to uint8. Losing 8 bits of resolution. Convert image to uint8 prior to saving to suppress this warning.\n",
      "WARNING:root:Lossy conversion from uint16 to uint8. Losing 8 bits of resolution. Convert image to uint8 prior to saving to suppress this warning.\n",
      "WARNING:root:Lossy conversion from uint16 to uint8. Losing 8 bits of resolution. Convert image to uint8 prior to saving to suppress this warning.\n",
      "WARNING:root:Lossy conversion from uint16 to uint8. Losing 8 bits of resolution. Convert image to uint8 prior to saving to suppress this warning.\n",
      "WARNING:root:Lossy conversion from uint16 to uint8. Losing 8 bits of resolution. Convert image to uint8 prior to saving to suppress this warning.\n",
      "WARNING:root:Lossy conversion from uint16 to uint8. Losing 8 bits of resolution. Convert image to uint8 prior to saving to suppress this warning.\n",
      "WARNING:root:Lossy conversion from uint16 to uint8. Losing 8 bits of resolution. Convert image to uint8 prior to saving to suppress this warning.\n",
      "WARNING:root:Lossy conversion from uint16 to uint8. Losing 8 bits of resolution. Convert image to uint8 prior to saving to suppress this warning.\n",
      "WARNING:root:Lossy conversion from uint16 to uint8. Losing 8 bits of resolution. Convert image to uint8 prior to saving to suppress this warning.\n",
      "WARNING:root:Lossy conversion from uint16 to uint8. Losing 8 bits of resolution. Convert image to uint8 prior to saving to suppress this warning.\n",
      "WARNING:root:Lossy conversion from uint16 to uint8. Losing 8 bits of resolution. Convert image to uint8 prior to saving to suppress this warning.\n",
      "WARNING:root:Lossy conversion from uint16 to uint8. Losing 8 bits of resolution. Convert image to uint8 prior to saving to suppress this warning.\n",
      "WARNING:root:Lossy conversion from uint16 to uint8. Losing 8 bits of resolution. Convert image to uint8 prior to saving to suppress this warning.\n",
      "WARNING:root:Lossy conversion from uint16 to uint8. Losing 8 bits of resolution. Convert image to uint8 prior to saving to suppress this warning.\n",
      "WARNING:root:Lossy conversion from uint16 to uint8. Losing 8 bits of resolution. Convert image to uint8 prior to saving to suppress this warning.\n",
      "WARNING:root:Lossy conversion from uint16 to uint8. Losing 8 bits of resolution. Convert image to uint8 prior to saving to suppress this warning.\n",
      "WARNING:root:Lossy conversion from uint16 to uint8. Losing 8 bits of resolution. Convert image to uint8 prior to saving to suppress this warning.\n",
      "WARNING:root:Lossy conversion from uint16 to uint8. Losing 8 bits of resolution. Convert image to uint8 prior to saving to suppress this warning.\n",
      "WARNING:root:Lossy conversion from uint16 to uint8. Losing 8 bits of resolution. Convert image to uint8 prior to saving to suppress this warning.\n",
      "WARNING:root:Lossy conversion from uint16 to uint8. Losing 8 bits of resolution. Convert image to uint8 prior to saving to suppress this warning.\n",
      "WARNING:root:Lossy conversion from uint16 to uint8. Losing 8 bits of resolution. Convert image to uint8 prior to saving to suppress this warning.\n",
      "WARNING:root:Lossy conversion from uint16 to uint8. Losing 8 bits of resolution. Convert image to uint8 prior to saving to suppress this warning.\n",
      "WARNING:root:Lossy conversion from uint16 to uint8. Losing 8 bits of resolution. Convert image to uint8 prior to saving to suppress this warning.\n",
      "WARNING:root:Lossy conversion from uint16 to uint8. Losing 8 bits of resolution. Convert image to uint8 prior to saving to suppress this warning.\n",
      "WARNING:root:Lossy conversion from uint16 to uint8. Losing 8 bits of resolution. Convert image to uint8 prior to saving to suppress this warning.\n",
      "WARNING:root:Lossy conversion from uint16 to uint8. Losing 8 bits of resolution. Convert image to uint8 prior to saving to suppress this warning.\n",
      "WARNING:root:Lossy conversion from uint16 to uint8. Losing 8 bits of resolution. Convert image to uint8 prior to saving to suppress this warning.\n",
      "WARNING:root:Lossy conversion from uint16 to uint8. Losing 8 bits of resolution. Convert image to uint8 prior to saving to suppress this warning.\n",
      "WARNING:root:Lossy conversion from uint16 to uint8. Losing 8 bits of resolution. Convert image to uint8 prior to saving to suppress this warning.\n",
      "WARNING:root:Lossy conversion from uint16 to uint8. Losing 8 bits of resolution. Convert image to uint8 prior to saving to suppress this warning.\n",
      "WARNING:root:Lossy conversion from uint16 to uint8. Losing 8 bits of resolution. Convert image to uint8 prior to saving to suppress this warning.\n",
      "WARNING:root:Lossy conversion from uint16 to uint8. Losing 8 bits of resolution. Convert image to uint8 prior to saving to suppress this warning.\n",
      "WARNING:root:Lossy conversion from uint16 to uint8. Losing 8 bits of resolution. Convert image to uint8 prior to saving to suppress this warning.\n",
      "WARNING:root:Lossy conversion from uint16 to uint8. Losing 8 bits of resolution. Convert image to uint8 prior to saving to suppress this warning.\n",
      "WARNING:root:Lossy conversion from uint16 to uint8. Losing 8 bits of resolution. Convert image to uint8 prior to saving to suppress this warning.\n",
      "WARNING:root:Lossy conversion from uint16 to uint8. Losing 8 bits of resolution. Convert image to uint8 prior to saving to suppress this warning.\n",
      "WARNING:root:Lossy conversion from uint16 to uint8. Losing 8 bits of resolution. Convert image to uint8 prior to saving to suppress this warning.\n",
      "WARNING:root:Lossy conversion from uint16 to uint8. Losing 8 bits of resolution. Convert image to uint8 prior to saving to suppress this warning.\n",
      "WARNING:root:Lossy conversion from uint16 to uint8. Losing 8 bits of resolution. Convert image to uint8 prior to saving to suppress this warning.\n",
      "WARNING:root:Lossy conversion from uint16 to uint8. Losing 8 bits of resolution. Convert image to uint8 prior to saving to suppress this warning.\n",
      "WARNING:root:Lossy conversion from uint16 to uint8. Losing 8 bits of resolution. Convert image to uint8 prior to saving to suppress this warning.\n",
      "WARNING:root:Lossy conversion from uint16 to uint8. Losing 8 bits of resolution. Convert image to uint8 prior to saving to suppress this warning.\n",
      "WARNING:root:Lossy conversion from uint16 to uint8. Losing 8 bits of resolution. Convert image to uint8 prior to saving to suppress this warning.\n",
      "WARNING:root:Lossy conversion from uint16 to uint8. Losing 8 bits of resolution. Convert image to uint8 prior to saving to suppress this warning.\n",
      "WARNING:root:Lossy conversion from uint16 to uint8. Losing 8 bits of resolution. Convert image to uint8 prior to saving to suppress this warning.\n",
      "WARNING:root:Lossy conversion from uint16 to uint8. Losing 8 bits of resolution. Convert image to uint8 prior to saving to suppress this warning.\n",
      "WARNING:root:Lossy conversion from uint16 to uint8. Losing 8 bits of resolution. Convert image to uint8 prior to saving to suppress this warning.\n",
      "WARNING:root:Lossy conversion from uint16 to uint8. Losing 8 bits of resolution. Convert image to uint8 prior to saving to suppress this warning.\n",
      "WARNING:root:Lossy conversion from uint16 to uint8. Losing 8 bits of resolution. Convert image to uint8 prior to saving to suppress this warning.\n",
      "WARNING:root:Lossy conversion from uint16 to uint8. Losing 8 bits of resolution. Convert image to uint8 prior to saving to suppress this warning.\n",
      "WARNING:root:Lossy conversion from uint16 to uint8. Losing 8 bits of resolution. Convert image to uint8 prior to saving to suppress this warning.\n",
      "WARNING:root:Lossy conversion from uint16 to uint8. Losing 8 bits of resolution. Convert image to uint8 prior to saving to suppress this warning.\n",
      "WARNING:root:Lossy conversion from uint16 to uint8. Losing 8 bits of resolution. Convert image to uint8 prior to saving to suppress this warning.\n",
      "WARNING:root:Lossy conversion from uint16 to uint8. Losing 8 bits of resolution. Convert image to uint8 prior to saving to suppress this warning.\n",
      "WARNING:root:Lossy conversion from uint16 to uint8. Losing 8 bits of resolution. Convert image to uint8 prior to saving to suppress this warning.\n",
      "WARNING:root:Lossy conversion from uint16 to uint8. Losing 8 bits of resolution. Convert image to uint8 prior to saving to suppress this warning.\n",
      "WARNING:root:Lossy conversion from uint16 to uint8. Losing 8 bits of resolution. Convert image to uint8 prior to saving to suppress this warning.\n",
      "WARNING:root:Lossy conversion from uint16 to uint8. Losing 8 bits of resolution. Convert image to uint8 prior to saving to suppress this warning.\n",
      "WARNING:root:Lossy conversion from uint16 to uint8. Losing 8 bits of resolution. Convert image to uint8 prior to saving to suppress this warning.\n",
      "WARNING:root:Lossy conversion from uint16 to uint8. Losing 8 bits of resolution. Convert image to uint8 prior to saving to suppress this warning.\n",
      "WARNING:root:Lossy conversion from uint16 to uint8. Losing 8 bits of resolution. Convert image to uint8 prior to saving to suppress this warning.\n",
      "WARNING:root:Lossy conversion from uint16 to uint8. Losing 8 bits of resolution. Convert image to uint8 prior to saving to suppress this warning.\n",
      "WARNING:root:Lossy conversion from uint16 to uint8. Losing 8 bits of resolution. Convert image to uint8 prior to saving to suppress this warning.\n",
      "WARNING:root:Lossy conversion from uint16 to uint8. Losing 8 bits of resolution. Convert image to uint8 prior to saving to suppress this warning.\n",
      "WARNING:root:Lossy conversion from uint16 to uint8. Losing 8 bits of resolution. Convert image to uint8 prior to saving to suppress this warning.\n",
      "WARNING:root:Lossy conversion from uint16 to uint8. Losing 8 bits of resolution. Convert image to uint8 prior to saving to suppress this warning.\n",
      "WARNING:root:Lossy conversion from uint16 to uint8. Losing 8 bits of resolution. Convert image to uint8 prior to saving to suppress this warning.\n",
      "WARNING:root:Lossy conversion from uint16 to uint8. Losing 8 bits of resolution. Convert image to uint8 prior to saving to suppress this warning.\n",
      "WARNING:root:Lossy conversion from uint16 to uint8. Losing 8 bits of resolution. Convert image to uint8 prior to saving to suppress this warning.\n",
      "WARNING:root:Lossy conversion from uint16 to uint8. Losing 8 bits of resolution. Convert image to uint8 prior to saving to suppress this warning.\n",
      "WARNING:root:Lossy conversion from uint16 to uint8. Losing 8 bits of resolution. Convert image to uint8 prior to saving to suppress this warning.\n",
      "WARNING:root:Lossy conversion from uint16 to uint8. Losing 8 bits of resolution. Convert image to uint8 prior to saving to suppress this warning.\n",
      "WARNING:root:Lossy conversion from uint16 to uint8. Losing 8 bits of resolution. Convert image to uint8 prior to saving to suppress this warning.\n",
      "WARNING:root:Lossy conversion from uint16 to uint8. Losing 8 bits of resolution. Convert image to uint8 prior to saving to suppress this warning.\n",
      "WARNING:root:Lossy conversion from uint16 to uint8. Losing 8 bits of resolution. Convert image to uint8 prior to saving to suppress this warning.\n",
      "WARNING:root:Lossy conversion from uint16 to uint8. Losing 8 bits of resolution. Convert image to uint8 prior to saving to suppress this warning.\n",
      "WARNING:root:Lossy conversion from uint16 to uint8. Losing 8 bits of resolution. Convert image to uint8 prior to saving to suppress this warning.\n",
      "WARNING:root:Lossy conversion from uint16 to uint8. Losing 8 bits of resolution. Convert image to uint8 prior to saving to suppress this warning.\n",
      "WARNING:root:Lossy conversion from uint16 to uint8. Losing 8 bits of resolution. Convert image to uint8 prior to saving to suppress this warning.\n",
      "WARNING:root:Lossy conversion from uint16 to uint8. Losing 8 bits of resolution. Convert image to uint8 prior to saving to suppress this warning.\n",
      "WARNING:root:Lossy conversion from uint16 to uint8. Losing 8 bits of resolution. Convert image to uint8 prior to saving to suppress this warning.\n",
      "WARNING:root:Lossy conversion from uint16 to uint8. Losing 8 bits of resolution. Convert image to uint8 prior to saving to suppress this warning.\n",
      "WARNING:root:Lossy conversion from uint16 to uint8. Losing 8 bits of resolution. Convert image to uint8 prior to saving to suppress this warning.\n",
      "WARNING:root:Lossy conversion from uint16 to uint8. Losing 8 bits of resolution. Convert image to uint8 prior to saving to suppress this warning.\n",
      "WARNING:root:Lossy conversion from uint16 to uint8. Losing 8 bits of resolution. Convert image to uint8 prior to saving to suppress this warning.\n",
      "WARNING:root:Lossy conversion from uint16 to uint8. Losing 8 bits of resolution. Convert image to uint8 prior to saving to suppress this warning.\n",
      "WARNING:root:Lossy conversion from uint16 to uint8. Losing 8 bits of resolution. Convert image to uint8 prior to saving to suppress this warning.\n",
      "WARNING:root:Lossy conversion from uint16 to uint8. Losing 8 bits of resolution. Convert image to uint8 prior to saving to suppress this warning.\n",
      "WARNING:root:Lossy conversion from uint16 to uint8. Losing 8 bits of resolution. Convert image to uint8 prior to saving to suppress this warning.\n",
      "WARNING:root:Lossy conversion from uint16 to uint8. Losing 8 bits of resolution. Convert image to uint8 prior to saving to suppress this warning.\n",
      "WARNING:root:Lossy conversion from uint16 to uint8. Losing 8 bits of resolution. Convert image to uint8 prior to saving to suppress this warning.\n",
      "WARNING:root:Lossy conversion from uint16 to uint8. Losing 8 bits of resolution. Convert image to uint8 prior to saving to suppress this warning.\n",
      "WARNING:root:Lossy conversion from uint16 to uint8. Losing 8 bits of resolution. Convert image to uint8 prior to saving to suppress this warning.\n",
      "WARNING:root:Lossy conversion from uint16 to uint8. Losing 8 bits of resolution. Convert image to uint8 prior to saving to suppress this warning.\n",
      "WARNING:root:Lossy conversion from uint16 to uint8. Losing 8 bits of resolution. Convert image to uint8 prior to saving to suppress this warning.\n",
      "WARNING:root:Lossy conversion from uint16 to uint8. Losing 8 bits of resolution. Convert image to uint8 prior to saving to suppress this warning.\n",
      "WARNING:root:Lossy conversion from uint16 to uint8. Losing 8 bits of resolution. Convert image to uint8 prior to saving to suppress this warning.\n",
      "WARNING:root:Lossy conversion from uint16 to uint8. Losing 8 bits of resolution. Convert image to uint8 prior to saving to suppress this warning.\n",
      "WARNING:root:Lossy conversion from uint16 to uint8. Losing 8 bits of resolution. Convert image to uint8 prior to saving to suppress this warning.\n",
      "WARNING:root:Lossy conversion from uint16 to uint8. Losing 8 bits of resolution. Convert image to uint8 prior to saving to suppress this warning.\n",
      "WARNING:root:Lossy conversion from uint16 to uint8. Losing 8 bits of resolution. Convert image to uint8 prior to saving to suppress this warning.\n",
      "WARNING:root:Lossy conversion from uint16 to uint8. Losing 8 bits of resolution. Convert image to uint8 prior to saving to suppress this warning.\n",
      "WARNING:root:Lossy conversion from uint16 to uint8. Losing 8 bits of resolution. Convert image to uint8 prior to saving to suppress this warning.\n",
      "WARNING:root:Lossy conversion from uint16 to uint8. Losing 8 bits of resolution. Convert image to uint8 prior to saving to suppress this warning.\n",
      "WARNING:root:Lossy conversion from uint16 to uint8. Losing 8 bits of resolution. Convert image to uint8 prior to saving to suppress this warning.\n",
      "WARNING:root:Lossy conversion from uint16 to uint8. Losing 8 bits of resolution. Convert image to uint8 prior to saving to suppress this warning.\n",
      "WARNING:root:Lossy conversion from uint16 to uint8. Losing 8 bits of resolution. Convert image to uint8 prior to saving to suppress this warning.\n",
      "WARNING:root:Lossy conversion from uint16 to uint8. Losing 8 bits of resolution. Convert image to uint8 prior to saving to suppress this warning.\n",
      "WARNING:root:Lossy conversion from uint16 to uint8. Losing 8 bits of resolution. Convert image to uint8 prior to saving to suppress this warning.\n",
      "WARNING:root:Lossy conversion from uint16 to uint8. Losing 8 bits of resolution. Convert image to uint8 prior to saving to suppress this warning.\n",
      "WARNING:root:Lossy conversion from uint16 to uint8. Losing 8 bits of resolution. Convert image to uint8 prior to saving to suppress this warning.\n",
      "WARNING:root:Lossy conversion from uint16 to uint8. Losing 8 bits of resolution. Convert image to uint8 prior to saving to suppress this warning.\n",
      "WARNING:root:Lossy conversion from uint16 to uint8. Losing 8 bits of resolution. Convert image to uint8 prior to saving to suppress this warning.\n",
      "WARNING:root:Lossy conversion from uint16 to uint8. Losing 8 bits of resolution. Convert image to uint8 prior to saving to suppress this warning.\n",
      "WARNING:root:Lossy conversion from uint16 to uint8. Losing 8 bits of resolution. Convert image to uint8 prior to saving to suppress this warning.\n",
      "WARNING:root:Lossy conversion from uint16 to uint8. Losing 8 bits of resolution. Convert image to uint8 prior to saving to suppress this warning.\n",
      "WARNING:root:Lossy conversion from uint16 to uint8. Losing 8 bits of resolution. Convert image to uint8 prior to saving to suppress this warning.\n",
      "WARNING:root:Lossy conversion from uint16 to uint8. Losing 8 bits of resolution. Convert image to uint8 prior to saving to suppress this warning.\n",
      "WARNING:root:Lossy conversion from uint16 to uint8. Losing 8 bits of resolution. Convert image to uint8 prior to saving to suppress this warning.\n",
      "WARNING:root:Lossy conversion from uint16 to uint8. Losing 8 bits of resolution. Convert image to uint8 prior to saving to suppress this warning.\n",
      "WARNING:root:Lossy conversion from uint16 to uint8. Losing 8 bits of resolution. Convert image to uint8 prior to saving to suppress this warning.\n",
      "WARNING:root:Lossy conversion from uint16 to uint8. Losing 8 bits of resolution. Convert image to uint8 prior to saving to suppress this warning.\n",
      "WARNING:root:Lossy conversion from uint16 to uint8. Losing 8 bits of resolution. Convert image to uint8 prior to saving to suppress this warning.\n",
      "WARNING:root:Lossy conversion from uint16 to uint8. Losing 8 bits of resolution. Convert image to uint8 prior to saving to suppress this warning.\n",
      "WARNING:root:Lossy conversion from uint16 to uint8. Losing 8 bits of resolution. Convert image to uint8 prior to saving to suppress this warning.\n",
      "WARNING:root:Lossy conversion from uint16 to uint8. Losing 8 bits of resolution. Convert image to uint8 prior to saving to suppress this warning.\n",
      "WARNING:root:Lossy conversion from uint16 to uint8. Losing 8 bits of resolution. Convert image to uint8 prior to saving to suppress this warning.\n",
      "WARNING:root:Lossy conversion from uint16 to uint8. Losing 8 bits of resolution. Convert image to uint8 prior to saving to suppress this warning.\n",
      "WARNING:root:Lossy conversion from uint16 to uint8. Losing 8 bits of resolution. Convert image to uint8 prior to saving to suppress this warning.\n",
      "WARNING:root:Lossy conversion from uint16 to uint8. Losing 8 bits of resolution. Convert image to uint8 prior to saving to suppress this warning.\n",
      "WARNING:root:Lossy conversion from uint16 to uint8. Losing 8 bits of resolution. Convert image to uint8 prior to saving to suppress this warning.\n",
      "WARNING:root:Lossy conversion from uint16 to uint8. Losing 8 bits of resolution. Convert image to uint8 prior to saving to suppress this warning.\n",
      "WARNING:root:Lossy conversion from uint16 to uint8. Losing 8 bits of resolution. Convert image to uint8 prior to saving to suppress this warning.\n",
      "WARNING:root:Lossy conversion from uint16 to uint8. Losing 8 bits of resolution. Convert image to uint8 prior to saving to suppress this warning.\n",
      "WARNING:root:Lossy conversion from uint16 to uint8. Losing 8 bits of resolution. Convert image to uint8 prior to saving to suppress this warning.\n",
      "WARNING:root:Lossy conversion from uint16 to uint8. Losing 8 bits of resolution. Convert image to uint8 prior to saving to suppress this warning.\n",
      "WARNING:root:Lossy conversion from uint16 to uint8. Losing 8 bits of resolution. Convert image to uint8 prior to saving to suppress this warning.\n",
      "WARNING:root:Lossy conversion from uint16 to uint8. Losing 8 bits of resolution. Convert image to uint8 prior to saving to suppress this warning.\n",
      "WARNING:root:Lossy conversion from uint16 to uint8. Losing 8 bits of resolution. Convert image to uint8 prior to saving to suppress this warning.\n",
      "WARNING:root:Lossy conversion from uint16 to uint8. Losing 8 bits of resolution. Convert image to uint8 prior to saving to suppress this warning.\n",
      "WARNING:root:Lossy conversion from uint16 to uint8. Losing 8 bits of resolution. Convert image to uint8 prior to saving to suppress this warning.\n",
      "WARNING:root:Lossy conversion from uint16 to uint8. Losing 8 bits of resolution. Convert image to uint8 prior to saving to suppress this warning.\n",
      "WARNING:root:Lossy conversion from uint16 to uint8. Losing 8 bits of resolution. Convert image to uint8 prior to saving to suppress this warning.\n",
      "WARNING:root:Lossy conversion from uint16 to uint8. Losing 8 bits of resolution. Convert image to uint8 prior to saving to suppress this warning.\n",
      "WARNING:root:Lossy conversion from uint16 to uint8. Losing 8 bits of resolution. Convert image to uint8 prior to saving to suppress this warning.\n",
      "WARNING:root:Lossy conversion from uint16 to uint8. Losing 8 bits of resolution. Convert image to uint8 prior to saving to suppress this warning.\n",
      "WARNING:root:Lossy conversion from uint16 to uint8. Losing 8 bits of resolution. Convert image to uint8 prior to saving to suppress this warning.\n",
      "WARNING:root:Lossy conversion from uint16 to uint8. Losing 8 bits of resolution. Convert image to uint8 prior to saving to suppress this warning.\n",
      "WARNING:root:Lossy conversion from uint16 to uint8. Losing 8 bits of resolution. Convert image to uint8 prior to saving to suppress this warning.\n",
      "WARNING:root:Lossy conversion from uint16 to uint8. Losing 8 bits of resolution. Convert image to uint8 prior to saving to suppress this warning.\n",
      "WARNING:root:Lossy conversion from uint16 to uint8. Losing 8 bits of resolution. Convert image to uint8 prior to saving to suppress this warning.\n",
      "WARNING:root:Lossy conversion from uint16 to uint8. Losing 8 bits of resolution. Convert image to uint8 prior to saving to suppress this warning.\n",
      "WARNING:root:Lossy conversion from uint16 to uint8. Losing 8 bits of resolution. Convert image to uint8 prior to saving to suppress this warning.\n",
      "WARNING:root:Lossy conversion from uint16 to uint8. Losing 8 bits of resolution. Convert image to uint8 prior to saving to suppress this warning.\n",
      "WARNING:root:Lossy conversion from uint16 to uint8. Losing 8 bits of resolution. Convert image to uint8 prior to saving to suppress this warning.\n",
      "WARNING:root:Lossy conversion from uint16 to uint8. Losing 8 bits of resolution. Convert image to uint8 prior to saving to suppress this warning.\n",
      "WARNING:root:Lossy conversion from uint16 to uint8. Losing 8 bits of resolution. Convert image to uint8 prior to saving to suppress this warning.\n",
      "WARNING:root:Lossy conversion from uint16 to uint8. Losing 8 bits of resolution. Convert image to uint8 prior to saving to suppress this warning.\n",
      "WARNING:root:Lossy conversion from uint16 to uint8. Losing 8 bits of resolution. Convert image to uint8 prior to saving to suppress this warning.\n",
      "WARNING:root:Lossy conversion from uint16 to uint8. Losing 8 bits of resolution. Convert image to uint8 prior to saving to suppress this warning.\n",
      "WARNING:root:Lossy conversion from uint16 to uint8. Losing 8 bits of resolution. Convert image to uint8 prior to saving to suppress this warning.\n",
      "WARNING:root:Lossy conversion from uint16 to uint8. Losing 8 bits of resolution. Convert image to uint8 prior to saving to suppress this warning.\n",
      "WARNING:root:Lossy conversion from uint16 to uint8. Losing 8 bits of resolution. Convert image to uint8 prior to saving to suppress this warning.\n",
      "WARNING:root:Lossy conversion from uint16 to uint8. Losing 8 bits of resolution. Convert image to uint8 prior to saving to suppress this warning.\n",
      "WARNING:root:Lossy conversion from uint16 to uint8. Losing 8 bits of resolution. Convert image to uint8 prior to saving to suppress this warning.\n",
      "WARNING:root:Lossy conversion from uint16 to uint8. Losing 8 bits of resolution. Convert image to uint8 prior to saving to suppress this warning.\n",
      "WARNING:root:Lossy conversion from uint16 to uint8. Losing 8 bits of resolution. Convert image to uint8 prior to saving to suppress this warning.\n",
      "WARNING:root:Lossy conversion from uint16 to uint8. Losing 8 bits of resolution. Convert image to uint8 prior to saving to suppress this warning.\n",
      "WARNING:root:Lossy conversion from uint16 to uint8. Losing 8 bits of resolution. Convert image to uint8 prior to saving to suppress this warning.\n",
      "WARNING:root:Lossy conversion from uint16 to uint8. Losing 8 bits of resolution. Convert image to uint8 prior to saving to suppress this warning.\n",
      "WARNING:root:Lossy conversion from uint16 to uint8. Losing 8 bits of resolution. Convert image to uint8 prior to saving to suppress this warning.\n",
      "WARNING:root:Lossy conversion from uint16 to uint8. Losing 8 bits of resolution. Convert image to uint8 prior to saving to suppress this warning.\n",
      "WARNING:root:Lossy conversion from uint16 to uint8. Losing 8 bits of resolution. Convert image to uint8 prior to saving to suppress this warning.\n",
      "WARNING:root:Lossy conversion from uint16 to uint8. Losing 8 bits of resolution. Convert image to uint8 prior to saving to suppress this warning.\n",
      "WARNING:root:Lossy conversion from uint16 to uint8. Losing 8 bits of resolution. Convert image to uint8 prior to saving to suppress this warning.\n",
      "WARNING:root:Lossy conversion from uint16 to uint8. Losing 8 bits of resolution. Convert image to uint8 prior to saving to suppress this warning.\n",
      "WARNING:root:Lossy conversion from uint16 to uint8. Losing 8 bits of resolution. Convert image to uint8 prior to saving to suppress this warning.\n",
      "WARNING:root:Lossy conversion from uint16 to uint8. Losing 8 bits of resolution. Convert image to uint8 prior to saving to suppress this warning.\n",
      "WARNING:root:Lossy conversion from uint16 to uint8. Losing 8 bits of resolution. Convert image to uint8 prior to saving to suppress this warning.\n",
      "WARNING:root:Lossy conversion from uint16 to uint8. Losing 8 bits of resolution. Convert image to uint8 prior to saving to suppress this warning.\n",
      "WARNING:root:Lossy conversion from uint16 to uint8. Losing 8 bits of resolution. Convert image to uint8 prior to saving to suppress this warning.\n",
      "WARNING:root:Lossy conversion from uint16 to uint8. Losing 8 bits of resolution. Convert image to uint8 prior to saving to suppress this warning.\n",
      "WARNING:root:Lossy conversion from uint16 to uint8. Losing 8 bits of resolution. Convert image to uint8 prior to saving to suppress this warning.\n",
      "WARNING:root:Lossy conversion from uint16 to uint8. Losing 8 bits of resolution. Convert image to uint8 prior to saving to suppress this warning.\n",
      "WARNING:root:Lossy conversion from uint16 to uint8. Losing 8 bits of resolution. Convert image to uint8 prior to saving to suppress this warning.\n",
      "WARNING:root:Lossy conversion from uint16 to uint8. Losing 8 bits of resolution. Convert image to uint8 prior to saving to suppress this warning.\n",
      "WARNING:root:Lossy conversion from uint16 to uint8. Losing 8 bits of resolution. Convert image to uint8 prior to saving to suppress this warning.\n",
      "WARNING:root:Lossy conversion from uint16 to uint8. Losing 8 bits of resolution. Convert image to uint8 prior to saving to suppress this warning.\n",
      "WARNING:root:Lossy conversion from uint16 to uint8. Losing 8 bits of resolution. Convert image to uint8 prior to saving to suppress this warning.\n",
      "WARNING:root:Lossy conversion from uint16 to uint8. Losing 8 bits of resolution. Convert image to uint8 prior to saving to suppress this warning.\n",
      "WARNING:root:Lossy conversion from uint16 to uint8. Losing 8 bits of resolution. Convert image to uint8 prior to saving to suppress this warning.\n",
      "WARNING:root:Lossy conversion from uint16 to uint8. Losing 8 bits of resolution. Convert image to uint8 prior to saving to suppress this warning.\n",
      "WARNING:root:Lossy conversion from uint16 to uint8. Losing 8 bits of resolution. Convert image to uint8 prior to saving to suppress this warning.\n",
      "WARNING:root:Lossy conversion from uint16 to uint8. Losing 8 bits of resolution. Convert image to uint8 prior to saving to suppress this warning.\n"
     ]
    },
    {
     "data": {
      "application/vnd.jupyter.widget-view+json": {
       "model_id": "fee38ad08f5a4ee085db95ca91da01cb",
       "version_major": 2,
       "version_minor": 0
      },
      "text/plain": [
       "HBox(children=(IntProgress(value=0, max=90), HTML(value='')))"
      ]
     },
     "metadata": {},
     "output_type": "display_data"
    },
    {
     "name": "stderr",
     "output_type": "stream",
     "text": [
      "/home/hamdiaj/anaconda3/envs/mytorch/lib/python3.7/site-packages/skimage/util/dtype.py:130: UserWarning: Possible precision loss when converting from float32 to uint8\n",
      "  .format(dtypeobj_in, dtypeobj_out))\n"
     ]
    },
    {
     "data": {
      "text/html": [
       "<img src='data/3d_renderer/example2_out.gif'>output</img>"
      ],
      "text/plain": [
       "<IPython.core.display.HTML object>"
      ]
     },
     "metadata": {},
     "output_type": "display_data"
    },
    {
     "name": "stdout",
     "output_type": "stream",
     "text": [
      "\n",
      "\n",
      "\n"
     ]
    },
    {
     "data": {
      "text/html": [
       "<img src='data/3d_renderer/example2_opt.gif'>optimization</img>"
      ],
      "text/plain": [
       "<IPython.core.display.HTML object>"
      ]
     },
     "metadata": {},
     "output_type": "display_data"
    }
   ],
   "source": [
    "model = Model(filename_obj, filename_ref)\n",
    "model.cuda()\n",
    "\n",
    "optimizer = torch.optim.Adam(filter(lambda p: p.requires_grad, model.parameters()))\n",
    "# optimizer.setup(model)\n",
    "loop = tqdm(range(300))\n",
    "for i in loop:\n",
    "    loop.set_description('Optimizing')\n",
    "    # optimizer.target.cleargrads()\n",
    "    optimizer.zero_grad()\n",
    "    loss = model()\n",
    "    loss.backward()\n",
    "    optimizer.step()\n",
    "    images = model.renderer(model.vertices, model.faces, mode='silhouettes')\n",
    "    image = images.detach().cpu().numpy()[0]\n",
    "    imsave('/tmp/_tmp_%04d.png' % i, image)\n",
    "make_gif(file_opt)\n",
    "\n",
    "# draw object\n",
    "loop = tqdm(range(0, 360, 4))\n",
    "for num, azimuth in enumerate(loop):\n",
    "    loop.set_description('Drawing')\n",
    "    model.renderer.eye = nr.get_points_from_angles(2.732, 0, azimuth)\n",
    "    images = model.renderer(model.vertices, model.faces, model.textures)\n",
    "    image = images.detach().cpu().numpy()[0].transpose((1, 2, 0))\n",
    "    imsave('/tmp/_tmp_%04d.png' % num, image)\n",
    "make_gif(file_out)\n",
    "display(HTML(\"<img src='data/3d_renderer/example2_out.gif'>output</img>\"))\n",
    "print(\"\\n\\n\")\n",
    "display(HTML(\"<img src='data/3d_renderer/example2_opt.gif'>optimization</img>\"))"
   ]
  },
  {
   "cell_type": "markdown",
   "metadata": {},
   "source": [
    "## example3 : optimizaing mesh texture"
   ]
  },
  {
   "cell_type": "code",
   "execution_count": 30,
   "metadata": {},
   "outputs": [],
   "source": [
    "filename_ref = os.path.join(data_dir,'example3_ref.png')\n",
    "file_out = os.path.join(data_dir,'example3_out.gif')\n",
    "file_opt = os.path.join(data_dir,'example3_opt.gif')\n",
    "\n",
    "class Model(nn.Module):\n",
    "    def __init__(self, filename_obj, filename_ref):\n",
    "        super(Model, self).__init__()\n",
    "        vertices, faces = nr.load_obj(filename_obj)\n",
    "        self.register_buffer('vertices', vertices[None, :, :])\n",
    "        self.register_buffer('faces', faces[None, :, :])\n",
    "\n",
    "        # create textures\n",
    "        texture_size = 4\n",
    "        textures = torch.zeros(1, self.faces.shape[1], texture_size, texture_size, texture_size, 3, dtype=torch.float32)\n",
    "        self.textures = nn.Parameter(textures)\n",
    "\n",
    "        # load reference image\n",
    "        image_ref = torch.from_numpy(imread(filename_ref).astype('float32') / 255.).permute(2,0,1)[None, ::]\n",
    "        self.register_buffer('image_ref', image_ref)\n",
    "\n",
    "        # setup renderer\n",
    "        renderer = nr.Renderer(camera_mode='look_at')\n",
    "        renderer.perspective = False\n",
    "        renderer.light_intensity_directional = 0.0\n",
    "        renderer.light_intensity_ambient = 1.0\n",
    "        self.renderer = renderer\n",
    "\n",
    "\n",
    "    def forward(self):\n",
    "        self.renderer.eye = nr.get_points_from_angles(2.732, 0, np.random.uniform(0, 360))\n",
    "        image = self.renderer(self.vertices, self.faces, torch.tanh(self.textures))\n",
    "        loss = torch.sum((image - self.image_ref) ** 2)\n",
    "        return loss"
   ]
  },
  {
   "cell_type": "code",
   "execution_count": 31,
   "metadata": {},
   "outputs": [
    {
     "data": {
      "application/vnd.jupyter.widget-view+json": {
       "model_id": "11637d7d14234370b8db406b6ea70229",
       "version_major": 2,
       "version_minor": 0
      },
      "text/plain": [
       "HBox(children=(IntProgress(value=0, max=300), HTML(value='')))"
      ]
     },
     "metadata": {},
     "output_type": "display_data"
    },
    {
     "data": {
      "application/vnd.jupyter.widget-view+json": {
       "model_id": "e9aa1d9505b34b799d90867b0e8f3708",
       "version_major": 2,
       "version_minor": 0
      },
      "text/plain": [
       "HBox(children=(IntProgress(value=0, max=90), HTML(value='')))"
      ]
     },
     "metadata": {},
     "output_type": "display_data"
    },
    {
     "name": "stderr",
     "output_type": "stream",
     "text": [
      "/home/hamdiaj/anaconda3/envs/mytorch/lib/python3.7/site-packages/skimage/util/dtype.py:130: UserWarning: Possible precision loss when converting from float32 to uint8\n",
      "  .format(dtypeobj_in, dtypeobj_out))\n"
     ]
    },
    {
     "data": {
      "text/html": [
       "<img src='data/3d_renderer/example3_out.gif'>output</img>"
      ],
      "text/plain": [
       "<IPython.core.display.HTML object>"
      ]
     },
     "metadata": {},
     "output_type": "display_data"
    }
   ],
   "source": [
    "\n",
    "model = Model(filename_obj, filename_ref)\n",
    "model.cuda()\n",
    "\n",
    "optimizer = torch.optim.Adam(model.parameters(), lr=0.1, betas=(0.5,0.999))\n",
    "loop = tqdm(range(300))\n",
    "for _ in loop:\n",
    "    loop.set_description('Optimizing')\n",
    "    optimizer.zero_grad()\n",
    "    loss = model()\n",
    "    loss.backward()\n",
    "    optimizer.step()\n",
    "\n",
    "# draw object\n",
    "loop = tqdm(range(0, 360, 4))\n",
    "for num, azimuth in enumerate(loop):\n",
    "    loop.set_description('Drawing')\n",
    "    model.renderer.eye = nr.get_points_from_angles(2.732, 0, azimuth)\n",
    "    images = model.renderer(model.vertices, model.faces, torch.tanh(model.textures))\n",
    "    image = images.detach().cpu().numpy()[0].transpose((1, 2, 0))\n",
    "    imsave('/tmp/_tmp_%04d.png' % num, image)\n",
    "make_gif(file_out)\n",
    "display(HTML(\"<img src='data/3d_renderer/example3_out.gif'>output</img>\"))"
   ]
  },
  {
   "cell_type": "markdown",
   "metadata": {},
   "source": [
    "## example4 : optimizaing Camera external paramters "
   ]
  },
  {
   "cell_type": "code",
   "execution_count": 32,
   "metadata": {},
   "outputs": [],
   "source": [
    "filename_ref = os.path.join(data_dir,'example4_ref.png')\n",
    "file_out = os.path.join(data_dir,'example4_out.gif')\n",
    "file_opt = os.path.join(data_dir,'example4_opt.gif')\n",
    "is_make_reference_image = False\n",
    "\n",
    "class Model(nn.Module):\n",
    "    def __init__(self, filename_obj, filename_ref=None):\n",
    "        super(Model, self).__init__()\n",
    "        # load .obj\n",
    "        vertices, faces = nr.load_obj(filename_obj)\n",
    "        self.register_buffer('vertices', vertices[None, :, :])\n",
    "        self.register_buffer('faces', faces[None, :, :])\n",
    "\n",
    "        # create textures\n",
    "        texture_size = 2\n",
    "        textures = torch.ones(1, self.faces.shape[1], texture_size, texture_size, texture_size, 3, dtype=torch.float32)\n",
    "        self.register_buffer('textures', textures)\n",
    "\n",
    "        # load reference image\n",
    "        image_ref = torch.from_numpy((imread(filename_ref).max(-1) != 0).astype(np.float32))\n",
    "        self.register_buffer('image_ref', image_ref)\n",
    "\n",
    "        # camera parameters\n",
    "        self.camera_position = nn.Parameter(torch.from_numpy(np.array([6, 10, -14], dtype=np.float32)))\n",
    "\n",
    "        # setup renderer\n",
    "        renderer = nr.Renderer(camera_mode='look_at')\n",
    "        renderer.eye = self.camera_position\n",
    "        self.renderer = renderer\n",
    "\n",
    "    def forward(self):\n",
    "        image = self.renderer(self.vertices, self.faces, mode='silhouettes')\n",
    "        loss = torch.sum((image - self.image_ref[None, :, :]) ** 2)\n",
    "        return loss\n",
    "\n",
    "\n",
    "\n",
    "\n",
    "\n",
    "def make_reference_image(filename_ref, filename_obj):\n",
    "    model = Model(filename_obj)\n",
    "    model.cuda()\n",
    "\n",
    "    model.renderer.eye = nr.get_points_from_angles(2.732, 30, -15)\n",
    "    images = model.renderer.render(model.vertices, model.faces, torch.tanh(model.textures))\n",
    "    image = images.detach().cpu().numpy()[0]\n",
    "    imsave(filename_ref, image)"
   ]
  },
  {
   "cell_type": "code",
   "execution_count": 33,
   "metadata": {},
   "outputs": [
    {
     "data": {
      "application/vnd.jupyter.widget-view+json": {
       "model_id": "6ba51013b5494846837f22709d16d6bc",
       "version_major": 2,
       "version_minor": 0
      },
      "text/plain": [
       "HBox(children=(IntProgress(value=0, max=1000), HTML(value='')))"
      ]
     },
     "metadata": {},
     "output_type": "display_data"
    },
    {
     "name": "stderr",
     "output_type": "stream",
     "text": [
      "/home/hamdiaj/anaconda3/envs/mytorch/lib/python3.7/site-packages/skimage/io/_io.py:140: UserWarning: /tmp/_tmp_0000.png is a low contrast image\n",
      "  warn('%s is a low contrast image' % fname)\n",
      "/home/hamdiaj/anaconda3/envs/mytorch/lib/python3.7/site-packages/skimage/util/dtype.py:130: UserWarning: Possible precision loss when converting from float32 to uint8\n",
      "  .format(dtypeobj_in, dtypeobj_out))\n",
      "/home/hamdiaj/anaconda3/envs/mytorch/lib/python3.7/site-packages/skimage/io/_io.py:140: UserWarning: /tmp/_tmp_0001.png is a low contrast image\n",
      "  warn('%s is a low contrast image' % fname)\n",
      "/home/hamdiaj/anaconda3/envs/mytorch/lib/python3.7/site-packages/skimage/io/_io.py:140: UserWarning: /tmp/_tmp_0002.png is a low contrast image\n",
      "  warn('%s is a low contrast image' % fname)\n",
      "/home/hamdiaj/anaconda3/envs/mytorch/lib/python3.7/site-packages/skimage/io/_io.py:140: UserWarning: /tmp/_tmp_0003.png is a low contrast image\n",
      "  warn('%s is a low contrast image' % fname)\n",
      "/home/hamdiaj/anaconda3/envs/mytorch/lib/python3.7/site-packages/skimage/io/_io.py:140: UserWarning: /tmp/_tmp_0004.png is a low contrast image\n",
      "  warn('%s is a low contrast image' % fname)\n",
      "/home/hamdiaj/anaconda3/envs/mytorch/lib/python3.7/site-packages/skimage/io/_io.py:140: UserWarning: /tmp/_tmp_0005.png is a low contrast image\n",
      "  warn('%s is a low contrast image' % fname)\n",
      "/home/hamdiaj/anaconda3/envs/mytorch/lib/python3.7/site-packages/skimage/io/_io.py:140: UserWarning: /tmp/_tmp_0006.png is a low contrast image\n",
      "  warn('%s is a low contrast image' % fname)\n",
      "/home/hamdiaj/anaconda3/envs/mytorch/lib/python3.7/site-packages/skimage/io/_io.py:140: UserWarning: /tmp/_tmp_0007.png is a low contrast image\n",
      "  warn('%s is a low contrast image' % fname)\n",
      "/home/hamdiaj/anaconda3/envs/mytorch/lib/python3.7/site-packages/skimage/io/_io.py:140: UserWarning: /tmp/_tmp_0008.png is a low contrast image\n",
      "  warn('%s is a low contrast image' % fname)\n",
      "/home/hamdiaj/anaconda3/envs/mytorch/lib/python3.7/site-packages/skimage/io/_io.py:140: UserWarning: /tmp/_tmp_0009.png is a low contrast image\n",
      "  warn('%s is a low contrast image' % fname)\n",
      "/home/hamdiaj/anaconda3/envs/mytorch/lib/python3.7/site-packages/skimage/io/_io.py:140: UserWarning: /tmp/_tmp_0010.png is a low contrast image\n",
      "  warn('%s is a low contrast image' % fname)\n",
      "/home/hamdiaj/anaconda3/envs/mytorch/lib/python3.7/site-packages/skimage/io/_io.py:140: UserWarning: /tmp/_tmp_0011.png is a low contrast image\n",
      "  warn('%s is a low contrast image' % fname)\n",
      "/home/hamdiaj/anaconda3/envs/mytorch/lib/python3.7/site-packages/skimage/io/_io.py:140: UserWarning: /tmp/_tmp_0012.png is a low contrast image\n",
      "  warn('%s is a low contrast image' % fname)\n",
      "/home/hamdiaj/anaconda3/envs/mytorch/lib/python3.7/site-packages/skimage/io/_io.py:140: UserWarning: /tmp/_tmp_0013.png is a low contrast image\n",
      "  warn('%s is a low contrast image' % fname)\n",
      "/home/hamdiaj/anaconda3/envs/mytorch/lib/python3.7/site-packages/skimage/io/_io.py:140: UserWarning: /tmp/_tmp_0014.png is a low contrast image\n",
      "  warn('%s is a low contrast image' % fname)\n",
      "/home/hamdiaj/anaconda3/envs/mytorch/lib/python3.7/site-packages/skimage/io/_io.py:140: UserWarning: /tmp/_tmp_0015.png is a low contrast image\n",
      "  warn('%s is a low contrast image' % fname)\n",
      "/home/hamdiaj/anaconda3/envs/mytorch/lib/python3.7/site-packages/skimage/io/_io.py:140: UserWarning: /tmp/_tmp_0016.png is a low contrast image\n",
      "  warn('%s is a low contrast image' % fname)\n",
      "/home/hamdiaj/anaconda3/envs/mytorch/lib/python3.7/site-packages/skimage/io/_io.py:140: UserWarning: /tmp/_tmp_0017.png is a low contrast image\n",
      "  warn('%s is a low contrast image' % fname)\n",
      "/home/hamdiaj/anaconda3/envs/mytorch/lib/python3.7/site-packages/skimage/io/_io.py:140: UserWarning: /tmp/_tmp_0018.png is a low contrast image\n",
      "  warn('%s is a low contrast image' % fname)\n",
      "/home/hamdiaj/anaconda3/envs/mytorch/lib/python3.7/site-packages/skimage/io/_io.py:140: UserWarning: /tmp/_tmp_0019.png is a low contrast image\n",
      "  warn('%s is a low contrast image' % fname)\n",
      "/home/hamdiaj/anaconda3/envs/mytorch/lib/python3.7/site-packages/skimage/io/_io.py:140: UserWarning: /tmp/_tmp_0020.png is a low contrast image\n",
      "  warn('%s is a low contrast image' % fname)\n",
      "/home/hamdiaj/anaconda3/envs/mytorch/lib/python3.7/site-packages/skimage/io/_io.py:140: UserWarning: /tmp/_tmp_0021.png is a low contrast image\n",
      "  warn('%s is a low contrast image' % fname)\n",
      "/home/hamdiaj/anaconda3/envs/mytorch/lib/python3.7/site-packages/skimage/io/_io.py:140: UserWarning: /tmp/_tmp_0022.png is a low contrast image\n",
      "  warn('%s is a low contrast image' % fname)\n",
      "/home/hamdiaj/anaconda3/envs/mytorch/lib/python3.7/site-packages/skimage/io/_io.py:140: UserWarning: /tmp/_tmp_0023.png is a low contrast image\n",
      "  warn('%s is a low contrast image' % fname)\n",
      "/home/hamdiaj/anaconda3/envs/mytorch/lib/python3.7/site-packages/skimage/io/_io.py:140: UserWarning: /tmp/_tmp_0024.png is a low contrast image\n",
      "  warn('%s is a low contrast image' % fname)\n",
      "/home/hamdiaj/anaconda3/envs/mytorch/lib/python3.7/site-packages/skimage/io/_io.py:140: UserWarning: /tmp/_tmp_0025.png is a low contrast image\n",
      "  warn('%s is a low contrast image' % fname)\n",
      "/home/hamdiaj/anaconda3/envs/mytorch/lib/python3.7/site-packages/skimage/io/_io.py:140: UserWarning: /tmp/_tmp_0026.png is a low contrast image\n",
      "  warn('%s is a low contrast image' % fname)\n",
      "/home/hamdiaj/anaconda3/envs/mytorch/lib/python3.7/site-packages/skimage/io/_io.py:140: UserWarning: /tmp/_tmp_0027.png is a low contrast image\n",
      "  warn('%s is a low contrast image' % fname)\n",
      "/home/hamdiaj/anaconda3/envs/mytorch/lib/python3.7/site-packages/skimage/io/_io.py:140: UserWarning: /tmp/_tmp_0028.png is a low contrast image\n",
      "  warn('%s is a low contrast image' % fname)\n",
      "/home/hamdiaj/anaconda3/envs/mytorch/lib/python3.7/site-packages/skimage/io/_io.py:140: UserWarning: /tmp/_tmp_0029.png is a low contrast image\n",
      "  warn('%s is a low contrast image' % fname)\n",
      "/home/hamdiaj/anaconda3/envs/mytorch/lib/python3.7/site-packages/skimage/io/_io.py:140: UserWarning: /tmp/_tmp_0030.png is a low contrast image\n",
      "  warn('%s is a low contrast image' % fname)\n",
      "/home/hamdiaj/anaconda3/envs/mytorch/lib/python3.7/site-packages/skimage/io/_io.py:140: UserWarning: /tmp/_tmp_0031.png is a low contrast image\n",
      "  warn('%s is a low contrast image' % fname)\n",
      "/home/hamdiaj/anaconda3/envs/mytorch/lib/python3.7/site-packages/skimage/io/_io.py:140: UserWarning: /tmp/_tmp_0032.png is a low contrast image\n",
      "  warn('%s is a low contrast image' % fname)\n",
      "/home/hamdiaj/anaconda3/envs/mytorch/lib/python3.7/site-packages/skimage/io/_io.py:140: UserWarning: /tmp/_tmp_0033.png is a low contrast image\n",
      "  warn('%s is a low contrast image' % fname)\n",
      "/home/hamdiaj/anaconda3/envs/mytorch/lib/python3.7/site-packages/skimage/io/_io.py:140: UserWarning: /tmp/_tmp_0034.png is a low contrast image\n",
      "  warn('%s is a low contrast image' % fname)\n",
      "/home/hamdiaj/anaconda3/envs/mytorch/lib/python3.7/site-packages/skimage/io/_io.py:140: UserWarning: /tmp/_tmp_0035.png is a low contrast image\n",
      "  warn('%s is a low contrast image' % fname)\n",
      "/home/hamdiaj/anaconda3/envs/mytorch/lib/python3.7/site-packages/skimage/io/_io.py:140: UserWarning: /tmp/_tmp_0036.png is a low contrast image\n",
      "  warn('%s is a low contrast image' % fname)\n",
      "/home/hamdiaj/anaconda3/envs/mytorch/lib/python3.7/site-packages/skimage/io/_io.py:140: UserWarning: /tmp/_tmp_0037.png is a low contrast image\n",
      "  warn('%s is a low contrast image' % fname)\n",
      "/home/hamdiaj/anaconda3/envs/mytorch/lib/python3.7/site-packages/skimage/io/_io.py:140: UserWarning: /tmp/_tmp_0038.png is a low contrast image\n",
      "  warn('%s is a low contrast image' % fname)\n",
      "/home/hamdiaj/anaconda3/envs/mytorch/lib/python3.7/site-packages/skimage/io/_io.py:140: UserWarning: /tmp/_tmp_0039.png is a low contrast image\n",
      "  warn('%s is a low contrast image' % fname)\n",
      "/home/hamdiaj/anaconda3/envs/mytorch/lib/python3.7/site-packages/skimage/io/_io.py:140: UserWarning: /tmp/_tmp_0040.png is a low contrast image\n",
      "  warn('%s is a low contrast image' % fname)\n",
      "/home/hamdiaj/anaconda3/envs/mytorch/lib/python3.7/site-packages/skimage/io/_io.py:140: UserWarning: /tmp/_tmp_0041.png is a low contrast image\n",
      "  warn('%s is a low contrast image' % fname)\n",
      "/home/hamdiaj/anaconda3/envs/mytorch/lib/python3.7/site-packages/skimage/io/_io.py:140: UserWarning: /tmp/_tmp_0042.png is a low contrast image\n",
      "  warn('%s is a low contrast image' % fname)\n",
      "/home/hamdiaj/anaconda3/envs/mytorch/lib/python3.7/site-packages/skimage/io/_io.py:140: UserWarning: /tmp/_tmp_0043.png is a low contrast image\n",
      "  warn('%s is a low contrast image' % fname)\n",
      "/home/hamdiaj/anaconda3/envs/mytorch/lib/python3.7/site-packages/skimage/io/_io.py:140: UserWarning: /tmp/_tmp_0044.png is a low contrast image\n",
      "  warn('%s is a low contrast image' % fname)\n",
      "/home/hamdiaj/anaconda3/envs/mytorch/lib/python3.7/site-packages/skimage/io/_io.py:140: UserWarning: /tmp/_tmp_0045.png is a low contrast image\n",
      "  warn('%s is a low contrast image' % fname)\n"
     ]
    },
    {
     "data": {
      "text/html": [
       "<img src='data/3d_renderer/example4_out.gif'>output</img>"
      ],
      "text/plain": [
       "<IPython.core.display.HTML object>"
      ]
     },
     "metadata": {},
     "output_type": "display_data"
    }
   ],
   "source": [
    "if is_make_reference_image:\n",
    "    make_reference_image(filename_ref, filename_obj)\n",
    "\n",
    "model = Model(filename_obj, filename_ref)\n",
    "model.cuda()\n",
    "\n",
    "# optimizer = chainer.optimizers.Adam(alpha=0.1)\n",
    "optimizer = torch.optim.Adam(model.parameters(), lr=0.1)\n",
    "loop = tqdm(range(1000))\n",
    "for i in loop:\n",
    "    optimizer.zero_grad()\n",
    "    loss = model()\n",
    "    loss.backward()\n",
    "    optimizer.step()\n",
    "    images = model.renderer(model.vertices, model.faces, torch.tanh(model.textures))\n",
    "    image = images.detach().cpu().numpy()[0].transpose(1,2,0)\n",
    "    imsave('/tmp/_tmp_%04d.png' % i, image)\n",
    "    loop.set_description('Optimizing (loss %.4f)' % loss.data)\n",
    "    if loss.item() < 70:\n",
    "        break\n",
    "make_gif(file_out)\n",
    "display(HTML(\"<img src='data/3d_renderer/example4_out.gif'>output</img>\"))"
   ]
  },
  {
   "cell_type": "code",
   "execution_count": null,
   "metadata": {},
   "outputs": [],
   "source": []
  }
 ],
 "metadata": {
  "kernelspec": {
   "display_name": "Python [conda env:mytorch]",
   "language": "python",
   "name": "conda-env-mytorch-py"
  },
  "language_info": {
   "codemirror_mode": {
    "name": "ipython",
    "version": 3
   },
   "file_extension": ".py",
   "mimetype": "text/x-python",
   "name": "python",
   "nbconvert_exporter": "python",
   "pygments_lexer": "ipython3",
   "version": "3.7.2"
  }
 },
 "nbformat": 4,
 "nbformat_minor": 2
}
